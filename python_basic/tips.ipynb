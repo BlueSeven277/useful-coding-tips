{
 "cells": [
  {
   "cell_type": "code",
   "execution_count": 2,
   "metadata": {},
   "outputs": [
    {
     "data": {
      "text/plain": [
       "'\\n    Some useful tips.\\n    Use simple code to achieve difficult functions - what I learned to provide pretty code from recent work\\n'"
      ]
     },
     "execution_count": 2,
     "metadata": {},
     "output_type": "execute_result"
    }
   ],
   "source": [
    "'''\n",
    "    Some useful tips.\n",
    "    Use simple code to achieve difficult functions - what I learned to provide pretty code from recent work\n",
    "'''\n"
   ]
  },
  {
   "cell_type": "code",
   "execution_count": 3,
   "metadata": {},
   "outputs": [
    {
     "name": "stdout",
     "output_type": "stream",
     "text": [
      "False\n",
      "True\n"
     ]
    }
   ],
   "source": [
    "# 1. Tell if the list contains same elements\n",
    "\n",
    "def judge_unique(lst):\n",
    "    return len(lst) == len(set(lst))\n",
    "\n",
    "lst = [1, 1, 2, 3, 4, 5, 5]\n",
    "print(judge_unique(lst))\n",
    "lst2 = [1, 2, 3, 4, 5]\n",
    "print(judge_unique(lst2))"
   ]
  },
  {
   "cell_type": "code",
   "execution_count": 4,
   "metadata": {},
   "outputs": [
    {
     "name": "stdout",
     "output_type": "stream",
     "text": [
      "hello hello hello hello hello \n"
     ]
    }
   ],
   "source": [
    "# 2. Print a string for n times\n",
    "\n",
    "s = \"hello \"\n",
    "print(s*5)"
   ]
  },
  {
   "cell_type": "code",
   "execution_count": 21,
   "metadata": {},
   "outputs": [
    {
     "name": "stdout",
     "output_type": "stream",
     "text": [
      "[-5, -4, -3, -2, -1]\n"
     ]
    }
   ],
   "source": [
    "# 3. Filter elements in a list\n",
    "number_list = range(-5, 5)\n",
    "less_than_zero = list(filter(lambda x: x < 0, number_list))\n",
    "print(less_than_zero)\n"
   ]
  },
  {
   "cell_type": "code",
   "execution_count": 3,
   "metadata": {},
   "outputs": [
    {
     "name": "stdout",
     "output_type": "stream",
     "text": [
      "{(1, 'one'), (2, 'two'), (3, 'three')}\n",
      "{('a', 'c', 'e'), ('b', 'd', 'f')}\n"
     ]
    }
   ],
   "source": [
    "# 4.Zip or unzip\n",
    "\n",
    "numberList = [1, 2, 3]\n",
    "strList = ['one', 'two', 'three']\n",
    "# Two iterables are passed\n",
    "result = zip(numberList, strList)\n",
    "\n",
    "# Converting itertor to set\n",
    "resultSet = set(result)\n",
    "print(resultSet)\n",
    "\n",
    "# unzip \n",
    "array = [['a', 'b'], ['c', 'd'], ['e', 'f']]\n",
    "transposed = zip(*array)\n",
    "print(set(transposed))"
   ]
  },
  {
   "cell_type": "code",
   "execution_count": 4,
   "metadata": {},
   "outputs": [
    {
     "name": "stdout",
     "output_type": "stream",
     "text": [
      "My hobbies are: basketball, football, swimming\n"
     ]
    }
   ],
   "source": [
    "# 5. print connection by 'join' instead of for loop\n",
    "\n",
    "hobbies = [\"basketball\", \"football\", \"swimming\"]\n",
    "\n",
    "print(\"My hobbies are: \" + \", \".join(hobbies))"
   ]
  },
  {
   "cell_type": "code",
   "execution_count": null,
   "metadata": {},
   "outputs": [],
   "source": []
  }
 ],
 "metadata": {
  "kernelspec": {
   "display_name": "Python 3",
   "language": "python",
   "name": "python3"
  },
  "language_info": {
   "codemirror_mode": {
    "name": "ipython",
    "version": 3
   },
   "file_extension": ".py",
   "mimetype": "text/x-python",
   "name": "python",
   "nbconvert_exporter": "python",
   "pygments_lexer": "ipython3",
   "version": "3.7.3"
  }
 },
 "nbformat": 4,
 "nbformat_minor": 2
}
